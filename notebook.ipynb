{
 "cells": [
  {
   "cell_type": "code",
   "execution_count": 291,
   "metadata": {},
   "outputs": [],
   "source": [
    "import pandas as pd\n",
    "import numpy as np \n",
    "import matplotlib.pyplot as plt \n"
   ]
  },
  {
   "cell_type": "markdown",
   "metadata": {},
   "source": [
    "Extraction des fichier csv "
   ]
  },
  {
   "cell_type": "code",
   "execution_count": 292,
   "metadata": {},
   "outputs": [],
   "source": [
    "train__set_features = pd.read_csv(\"training_set_features.csv\")\n",
    "test = pd.read_csv(\"test_set_features.csv\")\n",
    "train__set_features.shape\n",
    "\n",
    "train__set_labels = pd.read_csv(\"training_set_labels.csv\")\n",
    "\n",
    "y_h1n1 = train__set_labels['h1n1_vaccine']\n",
    "y_seasonal = train__set_labels['seasonal_vaccine']\n"
   ]
  },
  {
   "cell_type": "code",
   "execution_count": 293,
   "metadata": {},
   "outputs": [],
   "source": [
    "train = pd.concat([train__set_features, y_h1n1, y_seasonal], axis=1)\n"
   ]
  },
  {
   "cell_type": "markdown",
   "metadata": {},
   "source": [
    "On va gerer les valeurs manquantes et les valeurs categoriels "
   ]
  },
  {
   "cell_type": "code",
   "execution_count": 294,
   "metadata": {},
   "outputs": [
    {
     "data": {
      "text/plain": [
       "xtkaffoo    1778\n",
       "mxkfnird    1509\n",
       "emcorrxb    1270\n",
       "cmhcxjea    1247\n",
       "xgwztkwe    1082\n",
       "hfxkjkmi     766\n",
       "qxajmpny     548\n",
       "xqwwgdyp     485\n",
       "kldqjyjy     469\n",
       "uqqtjvyb     452\n",
       "tfqavkke     388\n",
       "ukymxvdu     372\n",
       "vlluhbov     354\n",
       "oijqvulv     344\n",
       "ccgxvspp     341\n",
       "bxpfxfdn     331\n",
       "haliazsg     296\n",
       "rcertsgn     276\n",
       "xzmlyyjv     248\n",
       "dlvbwzss     227\n",
       "hodpvpew     208\n",
       "dcjcmpih     148\n",
       "pvmttkik      98\n",
       "Name: employment_occupation, dtype: int64"
      ]
     },
     "execution_count": 294,
     "metadata": {},
     "output_type": "execute_result"
    }
   ],
   "source": [
    "train.select_dtypes(include='object').isna().sum()\n",
    "\n",
    "# train = train.drop(['employment_industry'], axis=1)\n",
    "# la moitié de employement _industry et _occupation est manquante \n",
    "train['employment_occupation'].value_counts()\n",
    "\n",
    "# essayer de creer catagorie big industrie // small industrie "
   ]
  },
  {
   "cell_type": "code",
   "execution_count": 295,
   "metadata": {},
   "outputs": [],
   "source": [
    "train = train.drop([\"employment_industry\", \"employment_occupation\"], axis=1)\n",
    "test = test.drop([\"employment_industry\", \"employment_occupation\"], axis=1)\n",
    "\n",
    "col = train.select_dtypes(exclude=(np.number)).columns\n",
    "\n",
    "train = pd.get_dummies(train, columns=col)\n",
    "test = pd.get_dummies(test, columns=col)\n",
    "\n"
   ]
  },
  {
   "cell_type": "markdown",
   "metadata": {},
   "source": [
    "Creation des colonnes dans le cas ou la categorie n'était pas le test set "
   ]
  },
  {
   "cell_type": "code",
   "execution_count": 296,
   "metadata": {},
   "outputs": [],
   "source": [
    "for col in train.columns: \n",
    "    if not(col in test.columns):\n",
    "        test[col] = pd.Series(np.zeros(test.shape[0]), name=col)\n"
   ]
  },
  {
   "cell_type": "markdown",
   "metadata": {},
   "source": [
    "Estimation des valeurs manquantes grace aux KNN \n"
   ]
  },
  {
   "cell_type": "code",
   "execution_count": 297,
   "metadata": {},
   "outputs": [],
   "source": [
    "\n",
    "# essayer d'utiliser le test set pour les NA\n",
    " \n",
    "from sklearn.neighbors import KNeighborsRegressor\n",
    "\n",
    "def manage_na(X,na_col): \n",
    "    X = X.copy()\n",
    "    numerical = X.select_dtypes(np.number)\n",
    "    non_na_columns = numerical.loc[:,numerical.isna().sum() == 0].columns\n",
    "    X_train = numerical.loc[numerical[na_col].isna() == False,non_na_columns]\n",
    "    y_train = numerical.loc[numerical[na_col].isna() == False,na_col]\n",
    "    X_na = numerical.loc[numerical[na_col].isna() == True, non_na_columns]\n",
    "    knn = KNeighborsRegressor()\n",
    "    knn.fit(X_train, y_train)\n",
    "    y_na = knn.predict(X_na)\n",
    "    X.loc[X[na_col].isna() == True, na_col] = y_na\n",
    "    \n",
    "    return X "
   ]
  },
  {
   "cell_type": "code",
   "execution_count": 298,
   "metadata": {},
   "outputs": [],
   "source": [
    "cond = train.corr()['seasonal_vaccine'].apply(abs).sort_values() > 0.2\n",
    "\n",
    "nulls = train[cond.index[cond]].isna().sum() > 0\n",
    "\n",
    "\n",
    "for col in nulls[nulls == True].index:\n",
    "    train = manage_na(train, col)\n",
    "\n",
    "nulls_test = test.isna().sum() > 0\n",
    "\n",
    "for col in nulls_test[nulls_test == True].index:\n",
    "    test = manage_na(test, col)\n",
    "\n",
    "\n",
    "\n"
   ]
  },
  {
   "cell_type": "code",
   "execution_count": 299,
   "metadata": {},
   "outputs": [
    {
     "data": {
      "text/plain": [
       "respondent_id                          False\n",
       "hhs_geo_region_oxchjgsf                False\n",
       "hhs_geo_region_qufhixun                False\n",
       "census_msa_MSA, Not Principle  City    False\n",
       "employment_status_Employed             False\n",
       "                                       ...  \n",
       "behavioral_wash_hands                   True\n",
       "behavioral_face_mask                    True\n",
       "chronic_med_condition                   True\n",
       "behavioral_touch_face                   True\n",
       "doctor_recc_h1n1                        True\n",
       "Length: 64, dtype: bool"
      ]
     },
     "execution_count": 299,
     "metadata": {},
     "output_type": "execute_result"
    }
   ],
   "source": [
    "nulls = train.isna().sum().sort_values() > 0\n",
    "nulls.sort_values()\n"
   ]
  },
  {
   "cell_type": "code",
   "execution_count": 300,
   "metadata": {},
   "outputs": [],
   "source": [
    "from sklearn.ensemble import RandomForestRegressor\n",
    "from sklearn.model_selection import GridSearchCV, train_test_split\n",
    "\n",
    "\n",
    "X = train\n",
    "\n",
    "\n",
    "params = {\n",
    "    \"n_estimators\": np.arange(10, 13,1), \n",
    "    \"max_depth\": np.arange(10, 13, 1),\n",
    "    \"min_samples_leaf\": np.arange(9,12 , 1), \n",
    "}\n",
    "grid = GridSearchCV(RandomForestRegressor(), params, cv=5)\n",
    "\n",
    "nulls = X.isna().sum() > 0 \n",
    "\n",
    "for col in nulls[nulls == True].index:\n",
    "    X = manage_na(X, col)\n",
    "\n",
    "\n",
    "X = X.drop([\"h1n1_vaccine\", \"seasonal_vaccine\"], axis=1)\n",
    "test = test.drop([\"h1n1_vaccine\", \"seasonal_vaccine\"], axis=1)\n",
    "\n",
    "X_train, X_test, y_train, y_test = train_test_split(X, y_seasonal,  test_size=0.2, random_state=32,)\n",
    "\n",
    "# grid.fit(X_train, y_train)\n",
    "# grid.best_params_\n",
    "\n",
    "\n",
    "\n"
   ]
  },
  {
   "cell_type": "code",
   "execution_count": 301,
   "metadata": {},
   "outputs": [
    {
     "data": {
      "text/plain": [
       "array([0.14077589, 0.04932592, 0.61913087, ..., 0.21734284, 0.36717659,\n",
       "       0.439694  ])"
      ]
     },
     "execution_count": 301,
     "metadata": {},
     "output_type": "execute_result"
    }
   ],
   "source": [
    "rf = RandomForestRegressor(max_depth=13,min_samples_leaf=7, n_estimators=14)\n",
    "\n",
    "rf.fit(X_train, y_train)\n",
    "\n",
    "y_seasonal_predict = rf.predict(test)\n",
    "y_seasonal\n",
    "\n",
    "rf.score(X_test, y_test)\n",
    "y_seasonal_predict.mean()\n",
    "y_seasonal_predict"
   ]
  },
  {
   "cell_type": "code",
   "execution_count": 302,
   "metadata": {},
   "outputs": [],
   "source": [
    "X_train, X_test, y_train, y_test = train_test_split(X, y_h1n1,  test_size=0.2, random_state=32,)\n",
    "\n",
    "rf = RandomForestRegressor(max_depth=9,min_samples_leaf=9, n_estimators=11)\n",
    "\n",
    "rf.fit(X_train, y_train)\n",
    "\n",
    "# grid.fit(X_train, y_train)\n",
    "# print(grid.best_params_)\n",
    "\n",
    "\n",
    "\n",
    "y_h1n1_predict = rf.predict(test)\n",
    "\n",
    "\n",
    "rf.score(X_test, y_test)\n",
    "y_h1n1_predict.mean()\n",
    "\n",
    "result = pd.concat([test[\"respondent_id\"], pd.Series(y_h1n1_predict, name=\"h1n1_vaccine\"), pd.Series(y_seasonal_predict, name=\"seasonal_vaccine\")], axis=1)\n",
    "result.to_csv(\"result.csv\", index=False)\n",
    "\n",
    "\n"
   ]
  },
  {
   "cell_type": "code",
   "execution_count": 303,
   "metadata": {},
   "outputs": [
    {
     "data": {
      "text/plain": [
       "0    26707\n",
       "1    26708\n",
       "2    26709\n",
       "3    26710\n",
       "4    26711\n",
       "Name: respondent_id, dtype: int64"
      ]
     },
     "execution_count": 303,
     "metadata": {},
     "output_type": "execute_result"
    }
   ],
   "source": [
    "sub_format = pd.read_csv(\"submission_format.csv\")\n",
    "\n",
    "sub_format['respondent_id'].head()"
   ]
  },
  {
   "cell_type": "code",
   "execution_count": null,
   "metadata": {},
   "outputs": [],
   "source": []
  }
 ],
 "metadata": {
  "kernelspec": {
   "display_name": "base",
   "language": "python",
   "name": "python3"
  },
  "language_info": {
   "codemirror_mode": {
    "name": "ipython",
    "version": 3
   },
   "file_extension": ".py",
   "mimetype": "text/x-python",
   "name": "python",
   "nbconvert_exporter": "python",
   "pygments_lexer": "ipython3",
   "version": "3.10.10"
  }
 },
 "nbformat": 4,
 "nbformat_minor": 2
}
