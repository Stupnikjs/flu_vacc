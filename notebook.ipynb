{
 "cells": [
  {
   "cell_type": "code",
   "execution_count": 117,
   "metadata": {},
   "outputs": [],
   "source": [
    "import pandas as pd\n",
    "import numpy as np \n",
    "import matplotlib.pyplot as plt \n"
   ]
  },
  {
   "cell_type": "code",
   "execution_count": 118,
   "metadata": {},
   "outputs": [
    {
     "data": {
      "text/plain": [
       "(26707, 36)"
      ]
     },
     "execution_count": 118,
     "metadata": {},
     "output_type": "execute_result"
    }
   ],
   "source": [
    "train__set_features = pd.read_csv(\"training_set_features.csv\")\n",
    "train__set_features.shape\n",
    "\n",
    "train__set_labels = pd.read_csv(\"training_set_labels.csv\")\n",
    "\n",
    "y_h1n1 = train__set_labels['h1n1_vaccine']\n",
    "y_h1n1\n",
    "\n",
    "y_seasonal = train__set_labels['seasonal_vaccine']\n",
    "\n",
    "train__set_features.shape"
   ]
  },
  {
   "cell_type": "code",
   "execution_count": 119,
   "metadata": {},
   "outputs": [
    {
     "data": {
      "text/plain": [
       "(26707,)"
      ]
     },
     "execution_count": 119,
     "metadata": {},
     "output_type": "execute_result"
    }
   ],
   "source": [
    "y_seasonal.shape"
   ]
  },
  {
   "cell_type": "code",
   "execution_count": 120,
   "metadata": {},
   "outputs": [
    {
     "data": {
      "text/plain": [
       "Index(['respondent_id', 'h1n1_concern', 'h1n1_knowledge',\n",
       "       'behavioral_antiviral_meds', 'behavioral_avoidance',\n",
       "       'behavioral_face_mask', 'behavioral_wash_hands',\n",
       "       'behavioral_large_gatherings', 'behavioral_outside_home',\n",
       "       'behavioral_touch_face', 'doctor_recc_h1n1', 'doctor_recc_seasonal',\n",
       "       'chronic_med_condition', 'child_under_6_months', 'health_worker',\n",
       "       'health_insurance', 'opinion_h1n1_vacc_effective', 'opinion_h1n1_risk',\n",
       "       'opinion_h1n1_sick_from_vacc', 'opinion_seas_vacc_effective',\n",
       "       'opinion_seas_risk', 'opinion_seas_sick_from_vacc', 'age_group',\n",
       "       'education', 'race', 'sex', 'income_poverty', 'marital_status',\n",
       "       'rent_or_own', 'employment_status', 'hhs_geo_region', 'census_msa',\n",
       "       'household_adults', 'household_children', 'employment_industry',\n",
       "       'employment_occupation', 'h1n1_vaccine', 'seasonal_vaccine'],\n",
       "      dtype='object')"
      ]
     },
     "execution_count": 120,
     "metadata": {},
     "output_type": "execute_result"
    }
   ],
   "source": [
    "train = pd.concat([train__set_features, y_h1n1, y_seasonal], axis=1)\n",
    "train.columns\n",
    "\n"
   ]
  },
  {
   "cell_type": "markdown",
   "metadata": {},
   "source": [
    "On va gerer les valeurs manquantes et les valeurs categoriels "
   ]
  },
  {
   "cell_type": "code",
   "execution_count": 121,
   "metadata": {},
   "outputs": [
    {
     "data": {
      "text/plain": [
       "age_group                    0\n",
       "education                 1407\n",
       "race                         0\n",
       "sex                          0\n",
       "income_poverty            4423\n",
       "marital_status            1408\n",
       "rent_or_own               2042\n",
       "employment_status         1463\n",
       "hhs_geo_region               0\n",
       "census_msa                   0\n",
       "employment_industry      13330\n",
       "employment_occupation    13470\n",
       "dtype: int64"
      ]
     },
     "execution_count": 121,
     "metadata": {},
     "output_type": "execute_result"
    }
   ],
   "source": [
    "train.select_dtypes(include='object').isna().sum()\n",
    "# train = train.drop(['employment_industry'], axis=1)\n",
    "# la moitié de employement _industry et _occupation est manquante \n"
   ]
  },
  {
   "cell_type": "code",
   "execution_count": 122,
   "metadata": {},
   "outputs": [],
   "source": [
    "train = train.drop([\"employment_industry\", \"employment_occupation\"], axis=1)\n",
    "\n",
    "train = pd.get_dummies(train, columns=['education', 'income_poverty', 'marital_status', 'rent_or_own', 'employment_status'])"
   ]
  },
  {
   "cell_type": "code",
   "execution_count": 123,
   "metadata": {},
   "outputs": [],
   "source": [
    "from sklearn.neighbors import KNeighborsRegressor\n",
    "def manage_na(X,na_col): \n",
    "    X = X.copy()\n",
    "    numerical = X.select_dtypes(np.number)\n",
    "    non_na_columns = numerical.loc[:,numerical.isna().sum() == 0].columns\n",
    "    X_train = numerical.loc[numerical[na_col].isna() == False,non_na_columns]\n",
    "    y_train = numerical.loc[numerical[na_col].isna() == False,na_col]\n",
    "    X_na = numerical.loc[numerical[na_col].isna() == True, non_na_columns]\n",
    "    knn = KNeighborsRegressor()\n",
    "    knn.fit(X_train, y_train)\n",
    "    y_na = knn.predict(X_na)\n",
    "    X.loc[X[na_col].isna() == True, na_col] = y_na\n",
    "    \n",
    "    return X "
   ]
  },
  {
   "cell_type": "code",
   "execution_count": 124,
   "metadata": {},
   "outputs": [
    {
     "name": "stderr",
     "output_type": "stream",
     "text": [
      "C:\\Users\\Amélie\\AppData\\Local\\Temp\\ipykernel_23752\\397326579.py:1: FutureWarning: The default value of numeric_only in DataFrame.corr is deprecated. In a future version, it will default to False. Select only valid columns or specify the value of numeric_only to silence this warning.\n",
      "  cond = train.corr()['seasonal_vaccine'].apply(abs).sort_values() > 0.1\n"
     ]
    }
   ],
   "source": [
    "cond = train.corr()['seasonal_vaccine'].apply(abs).sort_values() > 0.1\n",
    "\n",
    "nulls = train[cond.index[cond]].isna().sum() > 0\n",
    "\n",
    "for col in nulls[nulls == True].index:\n",
    "    train = manage_na(train, col)\n",
    "\n",
    "\n"
   ]
  },
  {
   "cell_type": "code",
   "execution_count": 125,
   "metadata": {},
   "outputs": [
    {
     "data": {
      "text/plain": [
       "respondent_id                               0\n",
       "h1n1_concern                                0\n",
       "h1n1_knowledge                              0\n",
       "behavioral_antiviral_meds                   0\n",
       "behavioral_avoidance                        0\n",
       "behavioral_face_mask                        0\n",
       "behavioral_wash_hands                       0\n",
       "behavioral_large_gatherings                 0\n",
       "behavioral_outside_home                     0\n",
       "behavioral_touch_face                       0\n",
       "doctor_recc_h1n1                            0\n",
       "doctor_recc_seasonal                        0\n",
       "chronic_med_condition                       0\n",
       "child_under_6_months                        0\n",
       "health_worker                               0\n",
       "health_insurance                            0\n",
       "opinion_h1n1_vacc_effective                 0\n",
       "opinion_h1n1_risk                           0\n",
       "opinion_h1n1_sick_from_vacc                 0\n",
       "opinion_seas_vacc_effective                 0\n",
       "opinion_seas_risk                           0\n",
       "opinion_seas_sick_from_vacc                 0\n",
       "age_group                                   0\n",
       "race                                        0\n",
       "sex                                         0\n",
       "hhs_geo_region                              0\n",
       "census_msa                                  0\n",
       "household_adults                            0\n",
       "household_children                          0\n",
       "h1n1_vaccine                                0\n",
       "seasonal_vaccine                            0\n",
       "education_12 Years                          0\n",
       "education_< 12 Years                        0\n",
       "education_College Graduate                  0\n",
       "education_Some College                      0\n",
       "income_poverty_<= $75,000, Above Poverty    0\n",
       "income_poverty_> $75,000                    0\n",
       "income_poverty_Below Poverty                0\n",
       "marital_status_Married                      0\n",
       "marital_status_Not Married                  0\n",
       "rent_or_own_Own                             0\n",
       "rent_or_own_Rent                            0\n",
       "employment_status_Employed                  0\n",
       "employment_status_Not in Labor Force        0\n",
       "employment_status_Unemployed                0\n",
       "dtype: int64"
      ]
     },
     "execution_count": 125,
     "metadata": {},
     "output_type": "execute_result"
    }
   ],
   "source": [
    "nulls = train.isna().sum().sort_values() > 0\n",
    "\n",
    "\n",
    "for col in nulls[nulls == True].index:\n",
    "    train = manage_na(train, col)\n",
    "\n",
    "train.isna().sum()\n",
    "\n"
   ]
  },
  {
   "cell_type": "code",
   "execution_count": 127,
   "metadata": {},
   "outputs": [
    {
     "data": {
      "text/html": [
       "<div>\n",
       "<style scoped>\n",
       "    .dataframe tbody tr th:only-of-type {\n",
       "        vertical-align: middle;\n",
       "    }\n",
       "\n",
       "    .dataframe tbody tr th {\n",
       "        vertical-align: top;\n",
       "    }\n",
       "\n",
       "    .dataframe thead th {\n",
       "        text-align: right;\n",
       "    }\n",
       "</style>\n",
       "<table border=\"1\" class=\"dataframe\">\n",
       "  <thead>\n",
       "    <tr style=\"text-align: right;\">\n",
       "      <th></th>\n",
       "      <th>age_group</th>\n",
       "      <th>race</th>\n",
       "      <th>sex</th>\n",
       "      <th>hhs_geo_region</th>\n",
       "      <th>census_msa</th>\n",
       "    </tr>\n",
       "  </thead>\n",
       "  <tbody>\n",
       "    <tr>\n",
       "      <th>13034</th>\n",
       "      <td>18 - 34 Years</td>\n",
       "      <td>White</td>\n",
       "      <td>Female</td>\n",
       "      <td>kbazzjca</td>\n",
       "      <td>Non-MSA</td>\n",
       "    </tr>\n",
       "    <tr>\n",
       "      <th>22588</th>\n",
       "      <td>18 - 34 Years</td>\n",
       "      <td>White</td>\n",
       "      <td>Female</td>\n",
       "      <td>bhuqouqj</td>\n",
       "      <td>MSA, Not Principle  City</td>\n",
       "    </tr>\n",
       "    <tr>\n",
       "      <th>13549</th>\n",
       "      <td>55 - 64 Years</td>\n",
       "      <td>White</td>\n",
       "      <td>Male</td>\n",
       "      <td>oxchjgsf</td>\n",
       "      <td>Non-MSA</td>\n",
       "    </tr>\n",
       "    <tr>\n",
       "      <th>10539</th>\n",
       "      <td>65+ Years</td>\n",
       "      <td>Hispanic</td>\n",
       "      <td>Female</td>\n",
       "      <td>kbazzjca</td>\n",
       "      <td>MSA, Principle City</td>\n",
       "    </tr>\n",
       "    <tr>\n",
       "      <th>21586</th>\n",
       "      <td>35 - 44 Years</td>\n",
       "      <td>White</td>\n",
       "      <td>Male</td>\n",
       "      <td>fpwskwrf</td>\n",
       "      <td>Non-MSA</td>\n",
       "    </tr>\n",
       "    <tr>\n",
       "      <th>...</th>\n",
       "      <td>...</td>\n",
       "      <td>...</td>\n",
       "      <td>...</td>\n",
       "      <td>...</td>\n",
       "      <td>...</td>\n",
       "    </tr>\n",
       "    <tr>\n",
       "      <th>23955</th>\n",
       "      <td>45 - 54 Years</td>\n",
       "      <td>White</td>\n",
       "      <td>Male</td>\n",
       "      <td>qufhixun</td>\n",
       "      <td>MSA, Not Principle  City</td>\n",
       "    </tr>\n",
       "    <tr>\n",
       "      <th>20414</th>\n",
       "      <td>35 - 44 Years</td>\n",
       "      <td>White</td>\n",
       "      <td>Female</td>\n",
       "      <td>mlyzmhmf</td>\n",
       "      <td>MSA, Principle City</td>\n",
       "    </tr>\n",
       "    <tr>\n",
       "      <th>9526</th>\n",
       "      <td>18 - 34 Years</td>\n",
       "      <td>Black</td>\n",
       "      <td>Male</td>\n",
       "      <td>lrircsnp</td>\n",
       "      <td>MSA, Principle City</td>\n",
       "    </tr>\n",
       "    <tr>\n",
       "      <th>9771</th>\n",
       "      <td>65+ Years</td>\n",
       "      <td>White</td>\n",
       "      <td>Female</td>\n",
       "      <td>fpwskwrf</td>\n",
       "      <td>MSA, Not Principle  City</td>\n",
       "    </tr>\n",
       "    <tr>\n",
       "      <th>10967</th>\n",
       "      <td>18 - 34 Years</td>\n",
       "      <td>White</td>\n",
       "      <td>Female</td>\n",
       "      <td>dqpwygqj</td>\n",
       "      <td>MSA, Not Principle  City</td>\n",
       "    </tr>\n",
       "  </tbody>\n",
       "</table>\n",
       "<p>21365 rows × 5 columns</p>\n",
       "</div>"
      ],
      "text/plain": [
       "           age_group      race     sex hhs_geo_region  \\\n",
       "13034  18 - 34 Years     White  Female       kbazzjca   \n",
       "22588  18 - 34 Years     White  Female       bhuqouqj   \n",
       "13549  55 - 64 Years     White    Male       oxchjgsf   \n",
       "10539      65+ Years  Hispanic  Female       kbazzjca   \n",
       "21586  35 - 44 Years     White    Male       fpwskwrf   \n",
       "...              ...       ...     ...            ...   \n",
       "23955  45 - 54 Years     White    Male       qufhixun   \n",
       "20414  35 - 44 Years     White  Female       mlyzmhmf   \n",
       "9526   18 - 34 Years     Black    Male       lrircsnp   \n",
       "9771       65+ Years     White  Female       fpwskwrf   \n",
       "10967  18 - 34 Years     White  Female       dqpwygqj   \n",
       "\n",
       "                     census_msa  \n",
       "13034                   Non-MSA  \n",
       "22588  MSA, Not Principle  City  \n",
       "13549                   Non-MSA  \n",
       "10539       MSA, Principle City  \n",
       "21586                   Non-MSA  \n",
       "...                         ...  \n",
       "23955  MSA, Not Principle  City  \n",
       "20414       MSA, Principle City  \n",
       "9526        MSA, Principle City  \n",
       "9771   MSA, Not Principle  City  \n",
       "10967  MSA, Not Principle  City  \n",
       "\n",
       "[21365 rows x 5 columns]"
      ]
     },
     "execution_count": 127,
     "metadata": {},
     "output_type": "execute_result"
    }
   ],
   "source": [
    "from sklearn.ensemble import RandomForestClassifier\n",
    "from sklearn.model_selection import GridSearchCV, train_test_split\n",
    "\n",
    "y = train[\"seasonal_vaccine\"]\n",
    "\n",
    "X = train.drop(\"seasonal_vaccine\", axis=1)\n",
    "X_train, X_test, y_train, y_test = train_test_split(X, y,  test_size=0.2, random_state=32,)\n",
    "\n",
    "params = {\n",
    "    \"n_estimators\": np.arange(1, 20,5), \n",
    "    \"max_depth\": np.arange(1, 20, 5),\n",
    "    \"min_samples_leaf\": np.arange(1, 20, 5), \n",
    "}\n",
    "grid = GridSearchCV(RandomForestClassifier(), params, cv=5)\n",
    "\n",
    "X_train.select_dtypes(include=\"object\")"
   ]
  },
  {
   "cell_type": "code",
   "execution_count": null,
   "metadata": {},
   "outputs": [],
   "source": []
  }
 ],
 "metadata": {
  "kernelspec": {
   "display_name": "base",
   "language": "python",
   "name": "python3"
  },
  "language_info": {
   "codemirror_mode": {
    "name": "ipython",
    "version": 3
   },
   "file_extension": ".py",
   "mimetype": "text/x-python",
   "name": "python",
   "nbconvert_exporter": "python",
   "pygments_lexer": "ipython3",
   "version": "3.10.9"
  }
 },
 "nbformat": 4,
 "nbformat_minor": 2
}
