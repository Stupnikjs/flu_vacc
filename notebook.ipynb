{
 "cells": [
  {
   "cell_type": "code",
   "execution_count": 73,
   "metadata": {},
   "outputs": [],
   "source": [
    "import pandas as pd\n",
    "import numpy as np \n",
    "import matplotlib.pyplot as plt \n"
   ]
  },
  {
   "cell_type": "code",
   "execution_count": 74,
   "metadata": {},
   "outputs": [
    {
     "data": {
      "text/plain": [
       "(26707, 36)"
      ]
     },
     "execution_count": 74,
     "metadata": {},
     "output_type": "execute_result"
    }
   ],
   "source": [
    "train__set_features = pd.read_csv(\"training_set_features.csv\")\n",
    "train__set_features.shape\n",
    "\n",
    "train__set_labels = pd.read_csv(\"training_set_labels.csv\")\n",
    "\n",
    "y_h1n1 = train__set_labels['h1n1_vaccine']\n",
    "y_h1n1\n",
    "\n",
    "y_seasonal = train__set_labels['seasonal_vaccine']\n",
    "\n",
    "train__set_features.shape"
   ]
  },
  {
   "cell_type": "code",
   "execution_count": 75,
   "metadata": {},
   "outputs": [
    {
     "data": {
      "text/plain": [
       "(26707,)"
      ]
     },
     "execution_count": 75,
     "metadata": {},
     "output_type": "execute_result"
    }
   ],
   "source": [
    "y_seasonal.shape"
   ]
  },
  {
   "cell_type": "code",
   "execution_count": 76,
   "metadata": {},
   "outputs": [
    {
     "data": {
      "text/plain": [
       "(26707, 38)"
      ]
     },
     "execution_count": 76,
     "metadata": {},
     "output_type": "execute_result"
    }
   ],
   "source": [
    "train = pd.concat([train__set_features, y_h1n1, y_seasonal], axis=1)\n",
    "train.shape\n",
    "\n"
   ]
  },
  {
   "cell_type": "code",
   "execution_count": 77,
   "metadata": {},
   "outputs": [
    {
     "data": {
      "text/plain": [
       "(array([12., 10.,  7.,  4.,  2.,  0.,  0.,  4.,  0.,  0.,  0.,  0.,  0.,\n",
       "         0.,  0.,  0.,  0.,  0.,  0.,  1.]),\n",
       " array([0.00465197, 0.05441938, 0.10418678, 0.15395418, 0.20372158,\n",
       "        0.25348898, 0.30325638, 0.35302378, 0.40279118, 0.45255859,\n",
       "        0.50232599, 0.55209339, 0.60186079, 0.65162819, 0.70139559,\n",
       "        0.75116299, 0.80093039, 0.8506978 , 0.9004652 , 0.9502326 ,\n",
       "        1.        ]),\n",
       " <BarContainer object of 20 artists>)"
      ]
     },
     "execution_count": 77,
     "metadata": {},
     "output_type": "execute_result"
    },
    {
     "data": {
      "image/png": "[encoded data removed]",
      "text/plain": [
       "<Figure size 640x480 with 1 Axes>"
      ]
     },
     "metadata": {},
     "output_type": "display_data"
    }
   ],
   "source": [
    "\n",
    "\n",
    "plt.hist(num_cors, bins=20)"
   ]
  },
  {
   "cell_type": "markdown",
   "metadata": {},
   "source": [
    "On va gerer les valeurs manquantes et les valeurs categoriels "
   ]
  },
  {
   "cell_type": "code",
   "execution_count": 78,
   "metadata": {},
   "outputs": [
    {
     "data": {
      "text/plain": [
       "age_group                    0\n",
       "education                 1407\n",
       "race                         0\n",
       "sex                          0\n",
       "income_poverty            4423\n",
       "marital_status            1408\n",
       "rent_or_own               2042\n",
       "employment_status         1463\n",
       "hhs_geo_region               0\n",
       "census_msa                   0\n",
       "employment_industry      13330\n",
       "employment_occupation    13470\n",
       "dtype: int64"
      ]
     },
     "execution_count": 78,
     "metadata": {},
     "output_type": "execute_result"
    }
   ],
   "source": [
    "train.select_dtypes(include='object').isna().sum()\n",
    "# train = train.drop(['employment_industry'], axis=1)\n",
    "# la moitié de employement _industry et _occupation est manquante \n"
   ]
  },
  {
   "cell_type": "code",
   "execution_count": 79,
   "metadata": {},
   "outputs": [],
   "source": [
    "train = train.drop([\"employment_industry\", \"employment_occupation\"], axis=1)\n",
    "\n",
    "train = pd.get_dummies(train, columns=['education', 'income_poverty', 'marital_status', 'rent_or_own', 'employment_status'])"
   ]
  },
  {
   "cell_type": "code",
   "execution_count": 84,
   "metadata": {},
   "outputs": [],
   "source": [
    "from sklearn.neighbors import KNeighborsRegressor\n",
    "def manage_na(X,na_col): \n",
    "    X = X.copy()\n",
    "    numerical = X.select_dtypes(np.number)\n",
    "    non_na_columns = numerical.loc[:,numerical.isna().sum() == 0].columns\n",
    "    X_train = numerical.loc[numerical[na_col].isna() == False,non_na_columns]\n",
    "    y_train = numerical.loc[numerical[na_col].isna() == False,na_col]\n",
    "    X_na = numerical.loc[numerical[na_col].isna() == True, non_na_columns]\n",
    "    knn = KNeighborsRegressor()\n",
    "    \n",
    "    knn.fit(X_train, y_train)\n",
    "    print(X_na)\n",
    "    y_na = knn.predict(X_na)\n",
    "    X.loc[X[na_col].isna() == True, na_col] = y_na\n",
    "    \n",
    "    return X "
   ]
  },
  {
   "cell_type": "code",
   "execution_count": 99,
   "metadata": {},
   "outputs": [
    {
     "name": "stderr",
     "output_type": "stream",
     "text": [
      "C:\\Users\\nboud\\AppData\\Local\\Temp\\ipykernel_1732\\3328749396.py:1: FutureWarning: The default value of numeric_only in DataFrame.corr is deprecated. In a future version, it will default to False. Select only valid columns or specify the value of numeric_only to silence this warning.\n",
      "  cond = train.corr()['seasonal_vaccine'].apply(abs).sort_values() > 0.1\n"
     ]
    },
    {
     "data": {
      "text/plain": [
       "respondent_id                                 0\n",
       "h1n1_concern                                  0\n",
       "h1n1_knowledge                                0\n",
       "behavioral_antiviral_meds                    71\n",
       "behavioral_avoidance                        208\n",
       "behavioral_face_mask                         19\n",
       "behavioral_wash_hands                         0\n",
       "behavioral_large_gatherings                  87\n",
       "behavioral_outside_home                      82\n",
       "behavioral_touch_face                         0\n",
       "doctor_recc_h1n1                              0\n",
       "doctor_recc_seasonal                          0\n",
       "chronic_med_condition                         0\n",
       "child_under_6_months                        820\n",
       "health_worker                                 0\n",
       "health_insurance                              0\n",
       "opinion_h1n1_vacc_effective                   0\n",
       "opinion_h1n1_risk                             0\n",
       "opinion_h1n1_sick_from_vacc                 395\n",
       "opinion_seas_vacc_effective                   0\n",
       "opinion_seas_risk                             0\n",
       "opinion_seas_sick_from_vacc                 537\n",
       "age_group                                     0\n",
       "race                                          0\n",
       "sex                                           0\n",
       "hhs_geo_region                                0\n",
       "census_msa                                    0\n",
       "household_adults                            249\n",
       "household_children                            0\n",
       "h1n1_vaccine                                  0\n",
       "seasonal_vaccine                              0\n",
       "education_12 Years                            0\n",
       "education_< 12 Years                          0\n",
       "education_College Graduate                    0\n",
       "education_Some College                        0\n",
       "income_poverty_<= $75,000, Above Poverty      0\n",
       "income_poverty_> $75,000                      0\n",
       "income_poverty_Below Poverty                  0\n",
       "marital_status_Married                        0\n",
       "marital_status_Not Married                    0\n",
       "rent_or_own_Own                               0\n",
       "rent_or_own_Rent                              0\n",
       "employment_status_Employed                    0\n",
       "employment_status_Not in Labor Force          0\n",
       "employment_status_Unemployed                  0\n",
       "dtype: int64"
      ]
     },
     "execution_count": 99,
     "metadata": {},
     "output_type": "execute_result"
    }
   ],
   "source": [
    "cond = train.corr()['seasonal_vaccine'].apply(abs).sort_values() > 0.1\n",
    "\n",
    "nulls = train[cond.index[cond]].isna().sum() > 0\n",
    "\n",
    "for col in nulls[nulls == True].index:\n",
    "    train = manage_na(train, col)\n",
    "\n",
    "\n",
    "train.isna().sum()"
   ]
  },
  {
   "cell_type": "code",
   "execution_count": null,
   "metadata": {},
   "outputs": [],
   "source": []
  }
 ],
 "metadata": {
  "kernelspec": {
   "display_name": "base",
   "language": "python",
   "name": "python3"
  },
  "language_info": {
   "codemirror_mode": {
    "name": "ipython",
    "version": 3
   },
   "file_extension": ".py",
   "mimetype": "text/x-python",
   "name": "python",
   "nbconvert_exporter": "python",
   "pygments_lexer": "ipython3",
   "version": "3.10.10"
  }
 },
 "nbformat": 4,
 "nbformat_minor": 2
}
